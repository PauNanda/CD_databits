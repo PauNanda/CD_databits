{
  "cells": [
    {
      "cell_type": "markdown",
      "metadata": {
        "id": "view-in-github",
        "colab_type": "text"
      },
      "source": [
        "<a href=\"https://colab.research.google.com/github/PauNanda/CD_databits/blob/main/01_Proyecto_final_Fase_1.ipynb\" target=\"_parent\"><img src=\"https://colab.research.google.com/assets/colab-badge.svg\" alt=\"Open In Colab\"/></a>"
      ]
    },
    {
      "cell_type": "markdown",
      "source": [
        "\n",
        "<div style=\"text-align: center; line-height: 0; padding-top: 9px;\">\n",
        "  <img src=\"https://storage.googleapis.com/datasets-academy/public-img/notebooks/headers/databits-header-notebook.png\" alt=\"Databricks Learning\" style=\"width: 100%;\">\n",
        "</div>"
      ],
      "metadata": {
        "application/vnd.databricks.v1+cell": {
          "title": "",
          "showTitle": false,
          "inputWidgets": {},
          "nuid": "ee6a5c99-5d71-43b3-b72a-0f15ac832334"
        },
        "id": "4U9sCJlsAMIm"
      }
    },
    {
      "cell_type": "markdown",
      "source": [
        "\n",
        "# <center>  Proyecto Final - Fase 1  </center>\n",
        "\n",
        "## Descripción\n",
        "En esta fase se explicará el proyecto y se realizará la carga de los datos. Además se implementará el correspondiente análisis exploratorio de datos (EDA)\n",
        "  \n",
        "<img alt=\"Caution\" title=\"Caution\" style=\"vertical-align: text-bottom; position: relative; height:1.3em; top:0.0em\" src=\"https://storage.googleapis.com/datasets-academy/public-img/notebooks/icons/danger.png\"/> **Disclaimer:** Este material ha sido preparado por el equipo de **handytec Academy®**. Se prohibe la publicación o reproducción de este material sin previa autorización de **handytec Academy®** - 2022 Todos los derechos reservados."
      ],
      "metadata": {
        "application/vnd.databricks.v1+cell": {
          "title": "",
          "showTitle": false,
          "inputWidgets": {},
          "nuid": "1fdc9d5c-4504-4078-a75f-098e443eb2ff"
        },
        "id": "NMkPYnbWAMIp"
      }
    },
    {
      "cell_type": "markdown",
      "source": [
        "## Problema de negocio"
      ],
      "metadata": {
        "application/vnd.databricks.v1+cell": {
          "title": "",
          "showTitle": false,
          "inputWidgets": {},
          "nuid": "04a14081-59ce-4add-acb6-9ab66ece8b2e"
        },
        "id": "fOZSDiDwAMIq"
      }
    },
    {
      "cell_type": "markdown",
      "source": [
        "Un problema imperante en el entorno bancario a nivel global se enfoca en el riesgo crediticio o riesgo de impago. \n",
        "  \n",
        "Este aspecto hace refencia a las pérdidas que incurren los bancos dado que los prestamistas son incapaces de devolver los créditos otorgados. \n",
        "\n",
        "Lo cual conlleva la siguiente pregunta: **¿Cómo poder reducir el número de personas que caen en mora crediticia?**"
      ],
      "metadata": {
        "application/vnd.databricks.v1+cell": {
          "title": "",
          "showTitle": false,
          "inputWidgets": {},
          "nuid": "f9e2027e-348b-4f84-9a48-a35c03242d3b"
        },
        "id": "4ALzj8JSAMIq"
      }
    },
    {
      "cell_type": "markdown",
      "source": [
        "## Objetivos del proyecto"
      ],
      "metadata": {
        "application/vnd.databricks.v1+cell": {
          "title": "",
          "showTitle": false,
          "inputWidgets": {},
          "nuid": "9da42ca7-353e-483e-9f3c-8b8b2cec9967"
        },
        "id": "gGeZKfGTAMIq"
      }
    },
    {
      "cell_type": "markdown",
      "source": [
        "El objetivo de este proyecto es construir un modelo que las entidades financieras puedan usar para ayudar a tomar las mejores decisiones financieras.\n",
        "\n",
        "Este modelo identificará la probabilidad de caer en mora crediticia por parte de los clientes que recibieron un crédito (modelos de default comportamentales).\n",
        "\n",
        "Mediante el uso de diferentes algoritmos se obtendrá la probabilidad de impago en cada individuo. El principal indicador que se va usar para ver la bonanza de los distintos modelos va a ser el AUC (Area Under the Curve) generado por las curvas ROC."
      ],
      "metadata": {
        "application/vnd.databricks.v1+cell": {
          "title": "",
          "showTitle": false,
          "inputWidgets": {},
          "nuid": "32ce9f43-46ef-4a66-970b-13aaf2ff18ca"
        },
        "id": "Gtmdzfv3AMIr"
      }
    },
    {
      "cell_type": "markdown",
      "source": [
        "## Importar librerías y verificar versiones"
      ],
      "metadata": {
        "application/vnd.databricks.v1+cell": {
          "title": "",
          "showTitle": false,
          "inputWidgets": {},
          "nuid": "226018b0-7d38-4bdc-8eae-7e63b7e9a90c"
        },
        "id": "52-1Mw8hAMIr"
      }
    },
    {
      "cell_type": "code",
      "source": [
        "import sys\n",
        "import numpy as np\n",
        "import pandas as pd\n",
        "import seaborn as sns\n",
        "import matplotlib\n",
        "import matplotlib.pyplot as plt\n",
        "import scipy.stats as stats"
      ],
      "metadata": {
        "application/vnd.databricks.v1+cell": {
          "title": "",
          "showTitle": false,
          "inputWidgets": {},
          "nuid": "36d0f29c-b8df-49a1-92cd-6e37430e0adb"
        },
        "id": "zD6Wf_MAAMIr"
      },
      "outputs": [],
      "execution_count": null
    },
    {
      "cell_type": "code",
      "source": [
        "print('** Versiones Actuales | Requeridas **')\n",
        "print('Python:\\nVersion Actual:', sys.version, ' | Requerida >= 3.6')\n",
        "print('NumPy:\\nVersion Actual: {:10} | Requerida >= 1.16.2'.format(np.__version__))\n",
        "print('Pandas:\\nVersion Actual: {:10}| Requerida >= 1.0.1'.format(pd.__version__))\n",
        "print('Matplotlib:\\nVersion Actual: {:10} | Requerida >= 3.0.3'.format(matplotlib.__version__))\n",
        "print('Seaborn:\\nVersion Actual: {:10} |Requerida >= 0.9.0 '.format(sns.__version__))"
      ],
      "metadata": {
        "application/vnd.databricks.v1+cell": {
          "title": "",
          "showTitle": false,
          "inputWidgets": {},
          "nuid": "9e0ac715-2adb-4520-baf9-4652a3572540"
        },
        "id": "mzWW9_-cAMIt",
        "colab": {
          "base_uri": "https://localhost:8080/"
        },
        "outputId": "514de301-86dc-40f2-89e5-89857708e45b"
      },
      "outputs": [
        {
          "output_type": "stream",
          "name": "stdout",
          "text": [
            "** Versiones Actuales | Requeridas **\n",
            "Python:\n",
            "Version Actual: 3.7.14 (default, Sep  8 2022, 00:06:44) \n",
            "[GCC 7.5.0]  | Requerida >= 3.6\n",
            "NumPy:\n",
            "Version Actual: 1.21.6     | Requerida >= 1.16.2\n",
            "Pandas:\n",
            "Version Actual: 1.3.5     | Requerida >= 1.0.1\n",
            "Matplotlib:\n",
            "Version Actual: 3.2.2      | Requerida >= 3.0.3\n",
            "Seaborn:\n",
            "Version Actual: 0.11.2     |Requerida >= 0.9.0 \n"
          ]
        }
      ],
      "execution_count": null
    },
    {
      "cell_type": "markdown",
      "source": [
        "## Descripción de las variables contenidas en el _dataset_"
      ],
      "metadata": {
        "application/vnd.databricks.v1+cell": {
          "title": "",
          "showTitle": false,
          "inputWidgets": {},
          "nuid": "9569ffd7-93d3-4439-ad6a-2a6eee416d6b"
        },
        "id": "VtXuWUp1AMIt"
      }
    },
    {
      "cell_type": "markdown",
      "source": [
        "El _dataset_ usado proviene de la plataforma **Kaggle**, y se encuentra separado en dos partes. \n",
        "\n",
        "La primera parte contiene los datos que serán usados para el entrenamiento del modelo, que serán nombrados como *datos_training*. La segunda parte son los datos que se usarán para el test del modelo *datos_test*. Estas muestras contienen 150.000 y 101.503 registros, respectivamente (aunque existen algunos campos que tienen distintos valores ausentes). \n",
        "\n",
        "Accesso a la Competencia **Give Me Some Credit:** [Link de acceso](https://www.kaggle.com/c/GiveMeSomeCredit/overview)\n",
        "\n",
        "Link de descarga correspondiente a cada dataset: \n",
        "* [training data](https://storage.googleapis.com/datasets-academy/Track%20Data%20Science/Proyecto%20Final/cs-training.csv)\n",
        "* [test data](https://storage.googleapis.com/datasets-academy/Track%20Data%20Science/Proyecto%20Final/cs-test.csv)"
      ],
      "metadata": {
        "application/vnd.databricks.v1+cell": {
          "title": "",
          "showTitle": false,
          "inputWidgets": {},
          "nuid": "e5c53952-5d72-451e-a424-bcd47e7a3b19"
        },
        "id": "y-bAJwXAAMIu"
      }
    },
    {
      "cell_type": "markdown",
      "source": [
        "* **SeriousDlqin2yrs:** Persona que tiene 90 días de morosidad vencida o peor (Si = 1 y  No = 0)\n",
        "* **RevolvingUtilizationOfUnsecuredLines:** El saldo total en tarjetas de crédito y líneas de crédito personales (excepto bienes inmuebles y sin deuda a plazos) sobre la suma de los límites de crédito\n",
        "* **Age:** Edad prestamista en años \n",
        "* **NumberOfTime30-59DaysPastDueNotWorse:** Número de veces que el prestatario ha caido en mora entre 30 y 59 días, pero no ha empeorado en los últimos 2 años \n",
        "* **DebtRatio:** Pagos mensuales de deuda sobre el ingreso bruto mensual \n",
        "* **MonthlyIncome:** Ingreso mensual \n",
        "* **NumberOfOpenCreditLinesAndLoans:** Número de préstamos abiertos (cuotas como préstamos para automóviles o hipotecas) y líneas de crédito \n",
        "* **NumberOfTimes90DaysLate:** Número de veces que el prestatario ha caido en mora entre 90 días o más \n",
        "* **NumberRealEstateLoansOrLines:** Número de préstamos hipotecarios e inmobiliarios, incluidas las líneas de crédito hipotecario \n",
        "* **NumberOfTime60-89DaysPastDueNotWorse:** Número de veces que el prestatario ha caido en mora entre 60 y 89 días, pero no ha empeorado en los últimos 2 años \n",
        "* **NumberOfDependents:** Número de dependientes en la familia excluyendose a si mismos (ej: cónyuge, hijos, etc.)"
      ],
      "metadata": {
        "application/vnd.databricks.v1+cell": {
          "title": "Diccionario de datos",
          "showTitle": true,
          "inputWidgets": {},
          "nuid": "b2dab89b-0622-404c-9793-982f02aa3585"
        },
        "id": "I2EJWwf2AMIu"
      }
    },
    {
      "cell_type": "markdown",
      "source": [
        "## Carga de los datos"
      ],
      "metadata": {
        "application/vnd.databricks.v1+cell": {
          "title": "",
          "showTitle": false,
          "inputWidgets": {},
          "nuid": "4fdf0406-dd54-45f4-ace0-914c3ace0922"
        },
        "id": "hLKxLnIsAMIv"
      }
    },
    {
      "cell_type": "markdown",
      "source": [
        "### **Importante**\n",
        "\n",
        "Recordar descargar los archivos localmente y subirlos al sistema de archivos de Google Colab"
      ],
      "metadata": {
        "id": "JGDl1nHjBnG_"
      }
    },
    {
      "cell_type": "code",
      "source": [
        "# Colocar la ruta del directorio correspondiente a cada dataset\n",
        "ruta_training = \"/content/cs-training.csv\"\n",
        "ruta_test     = \"/content/cs-test.csv\""
      ],
      "metadata": {
        "application/vnd.databricks.v1+cell": {
          "title": "",
          "showTitle": false,
          "inputWidgets": {},
          "nuid": "d5a59d8f-6067-4e90-96ff-df554f48ad0c"
        },
        "id": "6FvhDGIVAMIv"
      },
      "outputs": [],
      "execution_count": null
    },
    {
      "cell_type": "code",
      "source": [
        "# Lectura de los datos usando pandas (creación de DataFrames)\n",
        "datos_training = pd.read_csv(ruta_training, sep = ',', decimal = '.', index_col = 0)\n",
        "datos_test     = pd.read_csv(ruta_test,     sep = ',', decimal = '.', index_col = 0)"
      ],
      "metadata": {
        "application/vnd.databricks.v1+cell": {
          "title": "",
          "showTitle": false,
          "inputWidgets": {},
          "nuid": "e50fd214-ed19-4ceb-a350-950bb34587d3"
        },
        "id": "P1_I-NekAMIw"
      },
      "outputs": [],
      "execution_count": null
    },
    {
      "cell_type": "markdown",
      "source": [
        "## Revisión preliminar de los datasets\n",
        "\n",
        "**Importante:** Realizar un comparativa entre el conjunto de datos de entrenamiento y test ejecutando las siguientes instrucciones"
      ],
      "metadata": {
        "application/vnd.databricks.v1+cell": {
          "title": "",
          "showTitle": false,
          "inputWidgets": {},
          "nuid": "7be109d2-4791-490d-8796-dae82a421a1b"
        },
        "id": "fzDb7Fk2AMIw"
      }
    },
    {
      "cell_type": "code",
      "source": [
        "# Imprimir las 10 primera filas de los datos de entrenamiento\n",
        "print(datos_training.head(10))"
      ],
      "metadata": {
        "application/vnd.databricks.v1+cell": {
          "title": "",
          "showTitle": false,
          "inputWidgets": {},
          "nuid": "1063a7dd-3588-4c87-a894-fcb16beac16e"
        },
        "id": "K1q4NBx2AMIw",
        "colab": {
          "base_uri": "https://localhost:8080/"
        },
        "outputId": "fdac34d9-8e2d-4055-f186-dfc2d9ddf646"
      },
      "outputs": [
        {
          "output_type": "stream",
          "name": "stdout",
          "text": [
            "    SeriousDlqin2yrs  RevolvingUtilizationOfUnsecuredLines  age  \\\n",
            "1                  1                              0.766127   45   \n",
            "2                  0                              0.957151   40   \n",
            "3                  0                              0.658180   38   \n",
            "4                  0                              0.233810   30   \n",
            "5                  0                              0.907239   49   \n",
            "6                  0                              0.213179   74   \n",
            "7                  0                              0.305682   57   \n",
            "8                  0                              0.754464   39   \n",
            "9                  0                              0.116951   27   \n",
            "10                 0                              0.189169   57   \n",
            "\n",
            "    NumberOfTime30-59DaysPastDueNotWorse    DebtRatio  MonthlyIncome  \\\n",
            "1                                      2     0.802982         9120.0   \n",
            "2                                      0     0.121876         2600.0   \n",
            "3                                      1     0.085113         3042.0   \n",
            "4                                      0     0.036050         3300.0   \n",
            "5                                      1     0.024926        63588.0   \n",
            "6                                      0     0.375607         3500.0   \n",
            "7                                      0  5710.000000            NaN   \n",
            "8                                      0     0.209940         3500.0   \n",
            "9                                      0    46.000000            NaN   \n",
            "10                                     0     0.606291        23684.0   \n",
            "\n",
            "    NumberOfOpenCreditLinesAndLoans  NumberOfTimes90DaysLate  \\\n",
            "1                                13                        0   \n",
            "2                                 4                        0   \n",
            "3                                 2                        1   \n",
            "4                                 5                        0   \n",
            "5                                 7                        0   \n",
            "6                                 3                        0   \n",
            "7                                 8                        0   \n",
            "8                                 8                        0   \n",
            "9                                 2                        0   \n",
            "10                                9                        0   \n",
            "\n",
            "    NumberRealEstateLoansOrLines  NumberOfTime60-89DaysPastDueNotWorse  \\\n",
            "1                              6                                     0   \n",
            "2                              0                                     0   \n",
            "3                              0                                     0   \n",
            "4                              0                                     0   \n",
            "5                              1                                     0   \n",
            "6                              1                                     0   \n",
            "7                              3                                     0   \n",
            "8                              0                                     0   \n",
            "9                              0                                     0   \n",
            "10                             4                                     0   \n",
            "\n",
            "    NumberOfDependents  \n",
            "1                  2.0  \n",
            "2                  1.0  \n",
            "3                  0.0  \n",
            "4                  0.0  \n",
            "5                  0.0  \n",
            "6                  1.0  \n",
            "7                  0.0  \n",
            "8                  0.0  \n",
            "9                  NaN  \n",
            "10                 2.0  \n"
          ]
        }
      ],
      "execution_count": null
    },
    {
      "cell_type": "code",
      "source": [
        "# Imprimir las 10 últimas filas de los datos de test (usar el método tail)\n",
        "print(datos_test.tail(10))"
      ],
      "metadata": {
        "application/vnd.databricks.v1+cell": {
          "title": "",
          "showTitle": false,
          "inputWidgets": {},
          "nuid": "2ed2308d-ca22-42bb-a30b-106f9cbd007a"
        },
        "id": "RM3fWyFvAMIx",
        "colab": {
          "base_uri": "https://localhost:8080/"
        },
        "outputId": "e7bd0a45-547f-4af2-dfbf-fac9a9c84cba"
      },
      "outputs": [
        {
          "output_type": "stream",
          "name": "stdout",
          "text": [
            "        SeriousDlqin2yrs  RevolvingUtilizationOfUnsecuredLines  age  \\\n",
            "101494               NaN                              0.035549   58   \n",
            "101495               NaN                              0.218356   56   \n",
            "101496               NaN                              0.718874   35   \n",
            "101497               NaN                              0.021654   78   \n",
            "101498               NaN                              0.045230   67   \n",
            "101499               NaN                              0.282653   24   \n",
            "101500               NaN                              0.922156   36   \n",
            "101501               NaN                              0.081596   70   \n",
            "101502               NaN                              0.335457   56   \n",
            "101503               NaN                              0.441842   29   \n",
            "\n",
            "        NumberOfTime30-59DaysPastDueNotWorse    DebtRatio  MonthlyIncome  \\\n",
            "101494                                     0     0.290323        11128.0   \n",
            "101495                                     0     0.295803         1500.0   \n",
            "101496                                     1     0.308047         4125.0   \n",
            "101497                                     0    18.000000            NaN   \n",
            "101498                                     0     0.012198         5000.0   \n",
            "101499                                     0     0.068522         1400.0   \n",
            "101500                                     3     0.934217         7615.0   \n",
            "101501                                     0   836.000000            NaN   \n",
            "101502                                     0  3568.000000            NaN   \n",
            "101503                                     0     0.198918         5916.0   \n",
            "\n",
            "        NumberOfOpenCreditLinesAndLoans  NumberOfTimes90DaysLate  \\\n",
            "101494                                7                        0   \n",
            "101495                                3                        0   \n",
            "101496                                8                        0   \n",
            "101497                                8                        0   \n",
            "101498                                4                        0   \n",
            "101499                                5                        0   \n",
            "101500                                8                        0   \n",
            "101501                                3                        0   \n",
            "101502                                8                        0   \n",
            "101503                               12                        0   \n",
            "\n",
            "        NumberRealEstateLoansOrLines  NumberOfTime60-89DaysPastDueNotWorse  \\\n",
            "101494                             2                                     0   \n",
            "101495                             0                                     0   \n",
            "101496                             0                                     1   \n",
            "101497                             0                                     0   \n",
            "101498                             0                                     0   \n",
            "101499                             0                                     0   \n",
            "101500                             2                                     0   \n",
            "101501                             0                                     0   \n",
            "101502                             2                                     1   \n",
            "101503                             0                                     0   \n",
            "\n",
            "        NumberOfDependents  \n",
            "101494                 2.0  \n",
            "101495                 0.0  \n",
            "101496                 2.0  \n",
            "101497                 0.0  \n",
            "101498                 0.0  \n",
            "101499                 0.0  \n",
            "101500                 4.0  \n",
            "101501                 NaN  \n",
            "101502                 3.0  \n",
            "101503                 0.0  \n"
          ]
        }
      ],
      "execution_count": null
    },
    {
      "cell_type": "code",
      "source": [
        "# Imprimir el número de filas y columnas de ambos datasets\n",
        "\n",
        "print('El número de filas y columnas de los datos de entrenamiento es: ',datos_training.shape)\n",
        "print('El número de filas y columnas de los datos de prueba es: ',datos_test.shape)"
      ],
      "metadata": {
        "application/vnd.databricks.v1+cell": {
          "title": "",
          "showTitle": false,
          "inputWidgets": {},
          "nuid": "1e47c7f9-26c2-4a60-a9bb-0477e0fc5b1a"
        },
        "id": "ne5j2pekAMIx",
        "colab": {
          "base_uri": "https://localhost:8080/"
        },
        "outputId": "c5b85309-ae68-4f70-dcca-5ffff009ed47"
      },
      "outputs": [
        {
          "output_type": "stream",
          "name": "stdout",
          "text": [
            "El número de filas y columnas de los datos de entrenamiento es:  (150000, 11)\n",
            "El número de filas y columnas de los datos de prueba es:  (101503, 11)\n"
          ]
        }
      ],
      "execution_count": null
    },
    {
      "cell_type": "code",
      "source": [
        "# Imprimir los tipos de datos de cada columna en el dataset de entrenamiento\n",
        "\n",
        "print(datos_training.dtypes)"
      ],
      "metadata": {
        "application/vnd.databricks.v1+cell": {
          "title": "",
          "showTitle": false,
          "inputWidgets": {},
          "nuid": "a3568b9e-a4ad-4044-bb58-670acd173f5e"
        },
        "id": "XYXkz8w3AMIx",
        "colab": {
          "base_uri": "https://localhost:8080/"
        },
        "outputId": "037b532a-000e-4470-b1df-7f42b8e519f1"
      },
      "outputs": [
        {
          "output_type": "stream",
          "name": "stdout",
          "text": [
            "SeriousDlqin2yrs                          int64\n",
            "RevolvingUtilizationOfUnsecuredLines    float64\n",
            "age                                       int64\n",
            "NumberOfTime30-59DaysPastDueNotWorse      int64\n",
            "DebtRatio                               float64\n",
            "MonthlyIncome                           float64\n",
            "NumberOfOpenCreditLinesAndLoans           int64\n",
            "NumberOfTimes90DaysLate                   int64\n",
            "NumberRealEstateLoansOrLines              int64\n",
            "NumberOfTime60-89DaysPastDueNotWorse      int64\n",
            "NumberOfDependents                      float64\n",
            "dtype: object\n"
          ]
        }
      ],
      "execution_count": null
    },
    {
      "cell_type": "code",
      "source": [
        "# Imprimir los tipos de datos de cada columna en el dataset de test\n",
        "\n",
        "print(datos_test.dtypes)"
      ],
      "metadata": {
        "application/vnd.databricks.v1+cell": {
          "title": "",
          "showTitle": false,
          "inputWidgets": {},
          "nuid": "ac1a9b64-78dc-4e16-88cb-b91b5aebd61f"
        },
        "id": "f0Qoo0JWAMIx",
        "colab": {
          "base_uri": "https://localhost:8080/"
        },
        "outputId": "dd62c2e9-a7c4-451b-84b7-3ed5994b5c80"
      },
      "outputs": [
        {
          "output_type": "stream",
          "name": "stdout",
          "text": [
            "SeriousDlqin2yrs                        float64\n",
            "RevolvingUtilizationOfUnsecuredLines    float64\n",
            "age                                       int64\n",
            "NumberOfTime30-59DaysPastDueNotWorse      int64\n",
            "DebtRatio                               float64\n",
            "MonthlyIncome                           float64\n",
            "NumberOfOpenCreditLinesAndLoans           int64\n",
            "NumberOfTimes90DaysLate                   int64\n",
            "NumberRealEstateLoansOrLines              int64\n",
            "NumberOfTime60-89DaysPastDueNotWorse      int64\n",
            "NumberOfDependents                      float64\n",
            "dtype: object\n"
          ]
        }
      ],
      "execution_count": null
    },
    {
      "cell_type": "markdown",
      "source": [
        "## Análisis exploratorio de datos\n",
        "\n",
        "Los siguientes bloques de código nos vamos a enfocar en analizar el DataFrame `datos_training`.\n",
        "\n",
        "**Importante:** Ejecutar las instrucciones e interpretar los resultados"
      ],
      "metadata": {
        "application/vnd.databricks.v1+cell": {
          "title": "",
          "showTitle": false,
          "inputWidgets": {},
          "nuid": "635ffb26-ad95-48f0-bad8-f536cf170788"
        },
        "id": "PfQmo_4EAMIy"
      }
    },
    {
      "cell_type": "markdown",
      "source": [
        "### Análisis de valores duplicados"
      ],
      "metadata": {
        "application/vnd.databricks.v1+cell": {
          "title": "",
          "showTitle": false,
          "inputWidgets": {},
          "nuid": "8fd623c3-7d8c-4227-aa76-736f2fc9cb03"
        },
        "id": "Osh90ATTAMIy"
      }
    },
    {
      "cell_type": "code",
      "source": [
        "# Contabilizar filas duplicadas en todas sus columnas empleando los métodos duplicated() y value_counts() en el DataFrames datos_training\n",
        "\n",
        "print('El número de filas duplicadas es: ',datos_training.duplicated().value_counts()[1])"
      ],
      "metadata": {
        "application/vnd.databricks.v1+cell": {
          "title": "",
          "showTitle": false,
          "inputWidgets": {},
          "nuid": "91f7106e-ec99-4a2c-b5e0-af7c732caaae"
        },
        "id": "SP77wq4HAMIy",
        "colab": {
          "base_uri": "https://localhost:8080/"
        },
        "outputId": "2168c86d-6e1d-4947-ba25-7420bedaf8e8"
      },
      "outputs": [
        {
          "output_type": "stream",
          "name": "stdout",
          "text": [
            "El número de filas duplicadas es:  609\n"
          ]
        }
      ],
      "execution_count": null
    },
    {
      "cell_type": "markdown",
      "source": [
        "### Análisis de valores perdidos"
      ],
      "metadata": {
        "application/vnd.databricks.v1+cell": {
          "title": "",
          "showTitle": false,
          "inputWidgets": {},
          "nuid": "c51e9e22-70c2-4b93-ad6e-4a65fe3d1de3"
        },
        "id": "fprprFG_AMIy"
      }
    },
    {
      "cell_type": "code",
      "source": [
        "# Identificar el número de filas con valores perdidos por cada columna con los métodos isnull() y sum() en el DataFrames datos_training\n",
        "print(datos_training.isnull().sum())"
      ],
      "metadata": {
        "application/vnd.databricks.v1+cell": {
          "title": "",
          "showTitle": false,
          "inputWidgets": {},
          "nuid": "79386e2e-ec34-439a-8105-aa1cbd0eeb34"
        },
        "id": "UkvzXJmsAMIy",
        "colab": {
          "base_uri": "https://localhost:8080/"
        },
        "outputId": "06a0b496-1a01-4435-c4b4-a1c5d054234f"
      },
      "outputs": [
        {
          "output_type": "stream",
          "name": "stdout",
          "text": [
            "SeriousDlqin2yrs                            0\n",
            "RevolvingUtilizationOfUnsecuredLines        0\n",
            "age                                         0\n",
            "NumberOfTime30-59DaysPastDueNotWorse        0\n",
            "DebtRatio                                   0\n",
            "MonthlyIncome                           29731\n",
            "NumberOfOpenCreditLinesAndLoans             0\n",
            "NumberOfTimes90DaysLate                     0\n",
            "NumberRealEstateLoansOrLines                0\n",
            "NumberOfTime60-89DaysPastDueNotWorse        0\n",
            "NumberOfDependents                       3924\n",
            "dtype: int64\n"
          ]
        }
      ],
      "execution_count": null
    },
    {
      "cell_type": "markdown",
      "source": [
        "### Análisis univariante\n",
        "\n",
        "**Importante:** Ejecutar las instrucciones e interpretar los resultados"
      ],
      "metadata": {
        "application/vnd.databricks.v1+cell": {
          "title": "",
          "showTitle": false,
          "inputWidgets": {},
          "nuid": "5f6a5656-9383-4fc0-8db3-76d7c7882c84"
        },
        "id": "nN7zbJhmAMIy"
      }
    },
    {
      "cell_type": "code",
      "source": [
        "# Analizar las principales estadísticas descriptivas de cada columna en el DataFrame datos_training (usar el método describe)\n",
        "\n",
        "print(datos_training.describe())"
      ],
      "metadata": {
        "application/vnd.databricks.v1+cell": {
          "title": "",
          "showTitle": false,
          "inputWidgets": {},
          "nuid": "2614ab42-cdd5-4506-acdb-a553d22af5c4"
        },
        "id": "26eragCnAMIy",
        "colab": {
          "base_uri": "https://localhost:8080/"
        },
        "outputId": "23c75db7-4d3b-45c9-e227-3a7373613451"
      },
      "outputs": [
        {
          "output_type": "stream",
          "name": "stdout",
          "text": [
            "       SeriousDlqin2yrs  RevolvingUtilizationOfUnsecuredLines            age  \\\n",
            "count     150000.000000                         150000.000000  150000.000000   \n",
            "mean           0.066840                              6.048438      52.295207   \n",
            "std            0.249746                            249.755371      14.771866   \n",
            "min            0.000000                              0.000000       0.000000   \n",
            "25%            0.000000                              0.029867      41.000000   \n",
            "50%            0.000000                              0.154181      52.000000   \n",
            "75%            0.000000                              0.559046      63.000000   \n",
            "max            1.000000                          50708.000000     109.000000   \n",
            "\n",
            "       NumberOfTime30-59DaysPastDueNotWorse      DebtRatio  MonthlyIncome  \\\n",
            "count                         150000.000000  150000.000000   1.202690e+05   \n",
            "mean                               0.421033     353.005076   6.670221e+03   \n",
            "std                                4.192781    2037.818523   1.438467e+04   \n",
            "min                                0.000000       0.000000   0.000000e+00   \n",
            "25%                                0.000000       0.175074   3.400000e+03   \n",
            "50%                                0.000000       0.366508   5.400000e+03   \n",
            "75%                                0.000000       0.868254   8.249000e+03   \n",
            "max                               98.000000  329664.000000   3.008750e+06   \n",
            "\n",
            "       NumberOfOpenCreditLinesAndLoans  NumberOfTimes90DaysLate  \\\n",
            "count                    150000.000000            150000.000000   \n",
            "mean                          8.452760                 0.265973   \n",
            "std                           5.145951                 4.169304   \n",
            "min                           0.000000                 0.000000   \n",
            "25%                           5.000000                 0.000000   \n",
            "50%                           8.000000                 0.000000   \n",
            "75%                          11.000000                 0.000000   \n",
            "max                          58.000000                98.000000   \n",
            "\n",
            "       NumberRealEstateLoansOrLines  NumberOfTime60-89DaysPastDueNotWorse  \\\n",
            "count                 150000.000000                         150000.000000   \n",
            "mean                       1.018240                              0.240387   \n",
            "std                        1.129771                              4.155179   \n",
            "min                        0.000000                              0.000000   \n",
            "25%                        0.000000                              0.000000   \n",
            "50%                        1.000000                              0.000000   \n",
            "75%                        2.000000                              0.000000   \n",
            "max                       54.000000                             98.000000   \n",
            "\n",
            "       NumberOfDependents  \n",
            "count       146076.000000  \n",
            "mean             0.757222  \n",
            "std              1.115086  \n",
            "min              0.000000  \n",
            "25%              0.000000  \n",
            "50%              0.000000  \n",
            "75%              1.000000  \n",
            "max             20.000000  \n"
          ]
        }
      ],
      "execution_count": null
    },
    {
      "cell_type": "code",
      "source": [
        "# Realizar un conteo de las categorías en la variable SeriousDlqin2yrs empleando value_counts()\n",
        "\n",
        "print(datos_training['SeriousDlqin2yrs'].value_counts())"
      ],
      "metadata": {
        "application/vnd.databricks.v1+cell": {
          "title": "",
          "showTitle": false,
          "inputWidgets": {},
          "nuid": "4434e8cf-4103-4f00-9e9d-4bdbb310764b"
        },
        "id": "bpp9Rgq4AMIz",
        "colab": {
          "base_uri": "https://localhost:8080/"
        },
        "outputId": "db76bdc5-35a6-41eb-afff-c5b3a852ebce"
      },
      "outputs": [
        {
          "output_type": "stream",
          "name": "stdout",
          "text": [
            "0    139974\n",
            "1     10026\n",
            "Name: SeriousDlqin2yrs, dtype: int64\n"
          ]
        }
      ],
      "execution_count": null
    },
    {
      "cell_type": "markdown",
      "source": [
        "Con el dataframe **datos_training**, realizar el siguiente análisis para la variable `MonthlyIncome`"
      ],
      "metadata": {
        "application/vnd.databricks.v1+cell": {
          "title": "",
          "showTitle": false,
          "inputWidgets": {},
          "nuid": "d3c88aec-2246-452b-9d23-527773ea0e17"
        },
        "id": "CJ20QrJwAMIz"
      }
    },
    {
      "cell_type": "code",
      "source": [
        "ingresos = datos_training.MonthlyIncome"
      ],
      "metadata": {
        "application/vnd.databricks.v1+cell": {
          "title": "",
          "showTitle": false,
          "inputWidgets": {},
          "nuid": "109b9d73-1887-4c08-8bcb-5dc2208b58cc"
        },
        "id": "9Dx2kjqkAMIz",
        "colab": {
          "base_uri": "https://localhost:8080/"
        },
        "outputId": "93767d46-405f-42b0-98c5-05f3ff7f07fb"
      },
      "outputs": [
        {
          "output_type": "execute_result",
          "data": {
            "text/plain": [
              "1          9120.0\n",
              "2          2600.0\n",
              "3          3042.0\n",
              "4          3300.0\n",
              "5         63588.0\n",
              "           ...   \n",
              "149996     2100.0\n",
              "149997     5584.0\n",
              "149998        NaN\n",
              "149999     5716.0\n",
              "150000     8158.0\n",
              "Name: MonthlyIncome, Length: 150000, dtype: float64"
            ]
          },
          "metadata": {},
          "execution_count": 38
        }
      ],
      "execution_count": null
    },
    {
      "cell_type": "code",
      "source": [
        "# Analizar las principales estadísticas descriptivas de la columna ingresos\n",
        "\n",
        "print(ingresos.describe())"
      ],
      "metadata": {
        "application/vnd.databricks.v1+cell": {
          "title": "",
          "showTitle": false,
          "inputWidgets": {},
          "nuid": "2c1a0fda-a405-4753-8912-1fb6fbfb3539"
        },
        "id": "PrnkCwtnAMIz",
        "colab": {
          "base_uri": "https://localhost:8080/"
        },
        "outputId": "7a760efc-d257-48c6-e2f1-dcf9b40e4ebb"
      },
      "outputs": [
        {
          "output_type": "stream",
          "name": "stdout",
          "text": [
            "count    1.202690e+05\n",
            "mean     6.670221e+03\n",
            "std      1.438467e+04\n",
            "min      0.000000e+00\n",
            "25%      3.400000e+03\n",
            "50%      5.400000e+03\n",
            "75%      8.249000e+03\n",
            "max      3.008750e+06\n",
            "Name: MonthlyIncome, dtype: float64\n"
          ]
        }
      ],
      "execution_count": null
    },
    {
      "cell_type": "code",
      "source": [
        "# Crear un histograma de la variable ingresos (usar la librería seaborns)\n",
        "\n",
        "sns.displot(ingresos, color=\"darkblue\", kde=True)\n",
        "plt.title(\"Ingresos\")\n",
        "plt.xlabel(\"Dólares\")\n",
        "plt.ylabel(\"Frecuencia Absoluta\")\n",
        "plt.show()"
      ],
      "metadata": {
        "application/vnd.databricks.v1+cell": {
          "title": "",
          "showTitle": false,
          "inputWidgets": {},
          "nuid": "803ffe9a-a346-45c8-b20f-00107780d003"
        },
        "id": "dtrsqfE9AMIz",
        "colab": {
          "base_uri": "https://localhost:8080/",
          "height": 385
        },
        "outputId": "6aa66f27-eb13-4f6a-e1fe-7a32b42b7538"
      },
      "outputs": [
        {
          "output_type": "display_data",
          "data": {
            "text/plain": [
              "<Figure size 360x360 with 1 Axes>"
            ],
            "image/png": "[encoded data removed]"
          },
          "metadata": {
            "needs_background": "light"
          }
        }
      ],
      "execution_count": null
    },
    {
      "cell_type": "code",
      "source": [
        "# Obtener los deciles de la variable ingresos\n",
        "\n",
        "print('quintiles: ', ingresos.quantile(np.arange(0.2,1,0.2)))"
      ],
      "metadata": {
        "application/vnd.databricks.v1+cell": {
          "title": "",
          "showTitle": false,
          "inputWidgets": {},
          "nuid": "0013ba78-a35e-498e-94d6-0573ed508d70"
        },
        "id": "_dhkVmXUAMIz",
        "colab": {
          "base_uri": "https://localhost:8080/"
        },
        "outputId": "44ef7110-b5b6-4af9-8aa0-19042e71093a"
      },
      "outputs": [
        {
          "output_type": "stream",
          "name": "stdout",
          "text": [
            "quintiles:  0.2    3000.0\n",
            "0.4    4544.2\n",
            "0.6    6300.0\n",
            "0.8    9083.0\n",
            "Name: MonthlyIncome, dtype: float64\n"
          ]
        }
      ],
      "execution_count": null
    },
    {
      "cell_type": "code",
      "source": [
        "# Crear un box-plot la variable ingresos (usar la librería seaborns)\n",
        "IQR  = stats.iqr(ingresos)\n",
        "whis = 1.5\n",
        "cons = IQR * whis\n",
        "\n",
        "#Cuartiles\n",
        "Q1   = ingresos.quantile(0.25)\n",
        "Q3   = ingresos.quantile(0.75)\n",
        "sns.boxplot(x=datos_training, color=\"darkgreen\", whis=1.5) \n",
        "plt.title(\"Boxplot de los Ingresos\")\n",
        "plt.xlabel(\"Dólares\")\n",
        "plt.axvline(Q3+cons, color='blue', label='Lim. Superior')\n",
        "plt.legend()\n",
        "plt.show()"
      ],
      "metadata": {
        "application/vnd.databricks.v1+cell": {
          "title": "",
          "showTitle": false,
          "inputWidgets": {},
          "nuid": "0ee46615-fe5c-4148-841f-a7f629e99545"
        },
        "id": "4QyujS5uAMI0",
        "colab": {
          "base_uri": "https://localhost:8080/",
          "height": 295
        },
        "outputId": "8e829ae0-6716-40be-9411-7f43025d828a"
      },
      "outputs": [
        {
          "output_type": "display_data",
          "data": {
            "text/plain": [
              "<Figure size 432x288 with 1 Axes>"
            ],
            "image/png": "[encoded data removed]"
          },
          "metadata": {
            "needs_background": "light"
          }
        }
      ],
      "execution_count": null
    },
    {
      "cell_type": "markdown",
      "source": [
        "### Análisis multivariante\n",
        "\n",
        "**Importante:** Ejecutar las instrucciones e interpretar los resultados"
      ],
      "metadata": {
        "application/vnd.databricks.v1+cell": {
          "title": "",
          "showTitle": false,
          "inputWidgets": {},
          "nuid": "273c84bb-856d-4717-afec-0a6211ae33e0"
        },
        "id": "jYI1YPjvAMI1"
      }
    },
    {
      "cell_type": "code",
      "source": [
        "# Agrupar el dataframe datos_training por la variable SeriousDlqin2yrs y emplear como formas de agregación el promedio y la mediana\n",
        "\n",
        "print(datos_training.groupby('SeriousDlqin2yrs').mean())\n",
        "\n",
        "print(datos_training.groupby('SeriousDlqin2yrs').median())"
      ],
      "metadata": {
        "application/vnd.databricks.v1+cell": {
          "title": "",
          "showTitle": false,
          "inputWidgets": {},
          "nuid": "e3cdcef6-f04b-4a42-80bd-524122fa144b"
        },
        "id": "KUzZR8LtAMI1",
        "colab": {
          "base_uri": "https://localhost:8080/"
        },
        "outputId": "7fb68063-24b3-49c2-b8c6-7a28fb424e62"
      },
      "outputs": [
        {
          "output_type": "stream",
          "name": "stdout",
          "text": [
            "                  RevolvingUtilizationOfUnsecuredLines        age  \\\n",
            "SeriousDlqin2yrs                                                    \n",
            "0                                             6.168855  52.751375   \n",
            "1                                             4.367282  45.926591   \n",
            "\n",
            "                  NumberOfTime30-59DaysPastDueNotWorse   DebtRatio  \\\n",
            "SeriousDlqin2yrs                                                     \n",
            "0                                             0.280109  357.151168   \n",
            "1                                             2.388490  295.121066   \n",
            "\n",
            "                  MonthlyIncome  NumberOfOpenCreditLinesAndLoans  \\\n",
            "SeriousDlqin2yrs                                                   \n",
            "0                   6747.837774                         8.493620   \n",
            "1                   5630.826493                         7.882306   \n",
            "\n",
            "                  NumberOfTimes90DaysLate  NumberRealEstateLoansOrLines  \\\n",
            "SeriousDlqin2yrs                                                          \n",
            "0                                0.135225                      1.020368   \n",
            "1                                2.091362                      0.988530   \n",
            "\n",
            "                  NumberOfTime60-89DaysPastDueNotWorse  NumberOfDependents  \n",
            "SeriousDlqin2yrs                                                            \n",
            "0                                             0.126666            0.743417  \n",
            "1                                             1.828047            0.948208  \n",
            "                  RevolvingUtilizationOfUnsecuredLines   age  \\\n",
            "SeriousDlqin2yrs                                               \n",
            "0                                             0.133288  52.0   \n",
            "1                                             0.838853  45.0   \n",
            "\n",
            "                  NumberOfTime30-59DaysPastDueNotWorse  DebtRatio  \\\n",
            "SeriousDlqin2yrs                                                    \n",
            "0                                                  0.0   0.362659   \n",
            "1                                                  0.0   0.428227   \n",
            "\n",
            "                  MonthlyIncome  NumberOfOpenCreditLinesAndLoans  \\\n",
            "SeriousDlqin2yrs                                                   \n",
            "0                        5466.0                              8.0   \n",
            "1                        4500.0                              7.0   \n",
            "\n",
            "                  NumberOfTimes90DaysLate  NumberRealEstateLoansOrLines  \\\n",
            "SeriousDlqin2yrs                                                          \n",
            "0                                     0.0                           1.0   \n",
            "1                                     0.0                           1.0   \n",
            "\n",
            "                  NumberOfTime60-89DaysPastDueNotWorse  NumberOfDependents  \n",
            "SeriousDlqin2yrs                                                            \n",
            "0                                                  0.0                 0.0  \n",
            "1                                                  0.0                 0.0  \n"
          ]
        }
      ],
      "execution_count": null
    },
    {
      "cell_type": "markdown",
      "source": [
        "Matriz de correlaciones"
      ],
      "metadata": {
        "application/vnd.databricks.v1+cell": {
          "title": "",
          "showTitle": false,
          "inputWidgets": {},
          "nuid": "f138a4b8-a045-4dcf-983a-0093919cea13"
        },
        "id": "NSzs9hgeAMI1"
      }
    },
    {
      "cell_type": "code",
      "source": [
        "# Generar la matriz de correlaciones entre las variables del DataFrame datos_training\n",
        "\n",
        "matriz_corr = datos_training\\\n",
        ".cov()\\\n",
        ".round(decimals=2)\n",
        "print(matriz_corr)"
      ],
      "metadata": {
        "application/vnd.databricks.v1+cell": {
          "title": "",
          "showTitle": false,
          "inputWidgets": {},
          "nuid": "62c80f3b-8b2f-4865-9ef3-465378675458"
        },
        "id": "ovxlEa1VAMI1",
        "colab": {
          "base_uri": "https://localhost:8080/"
        },
        "outputId": "7c786f35-3bb3-466f-8eda-f63a008933c9"
      },
      "outputs": [
        {
          "output_type": "stream",
          "name": "stdout",
          "text": [
            "                                      SeriousDlqin2yrs  \\\n",
            "SeriousDlqin2yrs                                  0.06   \n",
            "RevolvingUtilizationOfUnsecuredLines             -0.11   \n",
            "age                                              -0.43   \n",
            "NumberOfTime30-59DaysPastDueNotWorse              0.13   \n",
            "DebtRatio                                        -3.87   \n",
            "MonthlyIncome                                   -72.22   \n",
            "NumberOfOpenCreditLinesAndLoans                  -0.04   \n",
            "NumberOfTimes90DaysLate                           0.12   \n",
            "NumberRealEstateLoansOrLines                     -0.00   \n",
            "NumberOfTime60-89DaysPastDueNotWorse              0.11   \n",
            "NumberOfDependents                                0.01   \n",
            "\n",
            "                                      RevolvingUtilizationOfUnsecuredLines  \\\n",
            "SeriousDlqin2yrs                                                     -0.11   \n",
            "RevolvingUtilizationOfUnsecuredLines                              62377.75   \n",
            "age                                                                 -21.76   \n",
            "NumberOfTime30-59DaysPastDueNotWorse                                 -1.38   \n",
            "DebtRatio                                                          2016.08   \n",
            "MonthlyIncome                                                     26340.20   \n",
            "NumberOfOpenCreditLinesAndLoans                                     -14.50   \n",
            "NumberOfTimes90DaysLate                                              -1.11   \n",
            "NumberRealEstateLoansOrLines                                          1.76   \n",
            "NumberOfTime60-89DaysPastDueNotWorse                                 -1.09   \n",
            "NumberOfDependents                                                    0.43   \n",
            "\n",
            "                                          age  \\\n",
            "SeriousDlqin2yrs                        -0.43   \n",
            "RevolvingUtilizationOfUnsecuredLines   -21.76   \n",
            "age                                    218.21   \n",
            "NumberOfTime30-59DaysPastDueNotWorse    -3.90   \n",
            "DebtRatio                              728.11   \n",
            "MonthlyIncome                         7827.23   \n",
            "NumberOfOpenCreditLinesAndLoans         11.23   \n",
            "NumberOfTimes90DaysLate                 -3.76   \n",
            "NumberRealEstateLoansOrLines             0.55   \n",
            "NumberOfTime60-89DaysPastDueNotWorse    -3.51   \n",
            "NumberOfDependents                      -3.47   \n",
            "\n",
            "                                      NumberOfTime30-59DaysPastDueNotWorse  \\\n",
            "SeriousDlqin2yrs                                                      0.13   \n",
            "RevolvingUtilizationOfUnsecuredLines                                 -1.38   \n",
            "age                                                                  -3.90   \n",
            "NumberOfTime30-59DaysPastDueNotWorse                                 17.58   \n",
            "DebtRatio                                                           -55.90   \n",
            "MonthlyIncome                                                      -514.29   \n",
            "NumberOfOpenCreditLinesAndLoans                                      -1.19   \n",
            "NumberOfTimes90DaysLate                                              17.19   \n",
            "NumberRealEstateLoansOrLines                                         -0.14   \n",
            "NumberOfTime60-89DaysPastDueNotWorse                                 17.20   \n",
            "NumberOfDependents                                                   -0.01   \n",
            "\n",
            "                                       DebtRatio  MonthlyIncome  \\\n",
            "SeriousDlqin2yrs                           -3.87  -7.222000e+01   \n",
            "RevolvingUtilizationOfUnsecuredLines     2016.08   2.634020e+04   \n",
            "age                                       728.11   7.827230e+03   \n",
            "NumberOfTime30-59DaysPastDueNotWorse      -55.90  -5.142900e+02   \n",
            "DebtRatio                             4152704.33  -1.753034e+05   \n",
            "MonthlyIncome                         -175303.44   2.069189e+08   \n",
            "NumberOfOpenCreditLinesAndLoans           519.77   6.805100e+03   \n",
            "NumberOfTimes90DaysLate                   -70.69  -6.351900e+02   \n",
            "NumberRealEstateLoansOrLines              276.38   2.065810e+03   \n",
            "NumberOfTime60-89DaysPastDueNotWorse      -63.79  -5.513000e+02   \n",
            "NumberOfDependents                        -88.16   1.034880e+03   \n",
            "\n",
            "                                      NumberOfOpenCreditLinesAndLoans  \\\n",
            "SeriousDlqin2yrs                                                -0.04   \n",
            "RevolvingUtilizationOfUnsecuredLines                           -14.50   \n",
            "age                                                             11.23   \n",
            "NumberOfTime30-59DaysPastDueNotWorse                            -1.19   \n",
            "DebtRatio                                                      519.77   \n",
            "MonthlyIncome                                                 6805.10   \n",
            "NumberOfOpenCreditLinesAndLoans                                 26.48   \n",
            "NumberOfTimes90DaysLate                                         -1.72   \n",
            "NumberRealEstateLoansOrLines                                     2.52   \n",
            "NumberOfTime60-89DaysPastDueNotWorse                            -1.52   \n",
            "NumberOfDependents                                               0.38   \n",
            "\n",
            "                                      NumberOfTimes90DaysLate  \\\n",
            "SeriousDlqin2yrs                                         0.12   \n",
            "RevolvingUtilizationOfUnsecuredLines                    -1.11   \n",
            "age                                                     -3.76   \n",
            "NumberOfTime30-59DaysPastDueNotWorse                    17.19   \n",
            "DebtRatio                                              -70.69   \n",
            "MonthlyIncome                                         -635.19   \n",
            "NumberOfOpenCreditLinesAndLoans                         -1.72   \n",
            "NumberOfTimes90DaysLate                                 17.38   \n",
            "NumberRealEstateLoansOrLines                            -0.21   \n",
            "NumberOfTime60-89DaysPastDueNotWorse                    17.20   \n",
            "NumberOfDependents                                      -0.05   \n",
            "\n",
            "                                      NumberRealEstateLoansOrLines  \\\n",
            "SeriousDlqin2yrs                                             -0.00   \n",
            "RevolvingUtilizationOfUnsecuredLines                          1.76   \n",
            "age                                                           0.55   \n",
            "NumberOfTime30-59DaysPastDueNotWorse                         -0.14   \n",
            "DebtRatio                                                   276.38   \n",
            "MonthlyIncome                                              2065.81   \n",
            "NumberOfOpenCreditLinesAndLoans                               2.52   \n",
            "NumberOfTimes90DaysLate                                      -0.21   \n",
            "NumberRealEstateLoansOrLines                                  1.28   \n",
            "NumberOfTime60-89DaysPastDueNotWorse                         -0.19   \n",
            "NumberOfDependents                                            0.16   \n",
            "\n",
            "                                      NumberOfTime60-89DaysPastDueNotWorse  \\\n",
            "SeriousDlqin2yrs                                                      0.11   \n",
            "RevolvingUtilizationOfUnsecuredLines                                 -1.09   \n",
            "age                                                                  -3.51   \n",
            "NumberOfTime30-59DaysPastDueNotWorse                                 17.20   \n",
            "DebtRatio                                                           -63.79   \n",
            "MonthlyIncome                                                      -551.30   \n",
            "NumberOfOpenCreditLinesAndLoans                                      -1.52   \n",
            "NumberOfTimes90DaysLate                                              17.20   \n",
            "NumberRealEstateLoansOrLines                                         -0.19   \n",
            "NumberOfTime60-89DaysPastDueNotWorse                                 17.27   \n",
            "NumberOfDependents                                                   -0.05   \n",
            "\n",
            "                                      NumberOfDependents  \n",
            "SeriousDlqin2yrs                                    0.01  \n",
            "RevolvingUtilizationOfUnsecuredLines                0.43  \n",
            "age                                                -3.47  \n",
            "NumberOfTime30-59DaysPastDueNotWorse               -0.01  \n",
            "DebtRatio                                         -88.16  \n",
            "MonthlyIncome                                    1034.88  \n",
            "NumberOfOpenCreditLinesAndLoans                     0.38  \n",
            "NumberOfTimes90DaysLate                            -0.05  \n",
            "NumberRealEstateLoansOrLines                        0.16  \n",
            "NumberOfTime60-89DaysPastDueNotWorse               -0.05  \n",
            "NumberOfDependents                                  1.24  \n"
          ]
        }
      ],
      "execution_count": null
    },
    {
      "cell_type": "code",
      "source": [
        "# Graficar la matriz de correlaciones\n",
        "plt.figure(figsize=(10,10))\n",
        "sns.heatmap(round(matriz_corr, 2), annot=True, fmt=\".2g\",\n",
        "            cmap = sns.light_palette(\"darkblue\", as_cmap=True))"
      ],
      "metadata": {
        "application/vnd.databricks.v1+cell": {
          "title": "",
          "showTitle": false,
          "inputWidgets": {},
          "nuid": "e0ba681a-e946-492c-ba02-025234c2e037"
        },
        "id": "bhGKQ-qLAMI1",
        "colab": {
          "base_uri": "https://localhost:8080/",
          "height": 828
        },
        "outputId": "59110795-83cd-4293-c26c-ea05c742deff"
      },
      "outputs": [
        {
          "output_type": "execute_result",
          "data": {
            "text/plain": [
              "<matplotlib.axes._subplots.AxesSubplot at 0x7fcae8321410>"
            ]
          },
          "metadata": {},
          "execution_count": 52
        },
        {
          "output_type": "display_data",
          "data": {
            "text/plain": [
              "<Figure size 720x720 with 2 Axes>"
            ],
            "image/png": "[encoded data removed]"
          },
          "metadata": {
            "needs_background": "light"
          }
        }
      ],
      "execution_count": null
    },
    {
      "cell_type": "markdown",
      "source": [
        "## Hallazgos a partir del análisis exploratorio de datos"
      ],
      "metadata": {
        "application/vnd.databricks.v1+cell": {
          "title": "",
          "showTitle": false,
          "inputWidgets": {},
          "nuid": "5aca2a5e-b72f-4aff-8897-4e75121eb678"
        },
        "id": "I49uD5OGAMI1"
      }
    },
    {
      "cell_type": "markdown",
      "source": [
        "Documentar los hallazgos identificados:\n",
        "- H1 TODAS LAS VARIABLES A ANALIZAR SON NUMÉRICAS \n",
        "- H2 SOLAMENTE DOS VARIABLES TIENEN VALORES NA \n",
        "- H3 LA VARIABLE MonthlyIncome ES LA QUE MÁS ALTAS CORRELACIONES PRESENTA RESPECTO A LAS DEMÁS VARIABLES\n",
        "- H4 LA MEDIA DEL GRUPO DE ANÁLISIS ES DE 52 AÑOS"
      ],
      "metadata": {
        "application/vnd.databricks.v1+cell": {
          "title": "",
          "showTitle": false,
          "inputWidgets": {},
          "nuid": "927de443-57cf-4ae5-a6c9-1ad2396369b1"
        },
        "id": "D9BUDeoxAMI1"
      }
    },
    {
      "cell_type": "markdown",
      "source": [
        "---"
      ],
      "metadata": {
        "id": "EPNoNnOsY1Zx"
      }
    },
    {
      "cell_type": "markdown",
      "source": [
        "## Perfilamiento de datos"
      ],
      "metadata": {
        "id": "a4WDxXCTXNAD"
      }
    },
    {
      "cell_type": "markdown",
      "source": [
        "**Introducción:**\n",
        "El perfilamiento de datos es **el proceso de revisión exhaustiva de las fuentes de información**, la comprensión de su estructura, contenido e interrelaciones, identificando su potencial o problemáticas para futuros proyectos. Consta de diferentes **técnicas estadísticas** que proporcionan información sobre las **características cualitativas de los datos**, siendo unos de sus objetivos principales el descubrir y validar los metadatos.\n",
        "\n",
        "El perfilamiento ayuda a descubrir, comprender y organizar los datos, respondiendo las siguientes preguntas podremos visibilizar como estamos gestionando los datos de nuestra organización.\n",
        "\n",
        "* ¿Los datos están completos?, ¿Existen valores blancos o nulos?\n",
        "* ¿Los datos son únicos?, ¿Cuántos valores distintos existen?, ¿Los datos están duplicados?\n",
        "* ¿Existe algún patrón anómalo?, ¿Cuál es la distribución de patrones en los datos?, ¿Son los patrones esperados?\n",
        "* ¿Cuáles son los valores: máximo, mínimo y promedio?, ¿Son los rangos esperados?\n"
      ],
      "metadata": {
        "id": "Xx76WX1QYb8a"
      }
    },
    {
      "cell_type": "markdown",
      "source": [
        "### Perfilamiento de datos con Python\n",
        "\n",
        "Utilizaremos el paquete `pandas-profiling` de Python, el cuál agrupa varias herramientas para la exploración de datos, y podemos generar un reporte consolidado en formato HTML *(HTML5 & CSS3)* con los resultados del análisis de la fuente de datos desde un `DataFrame` de `pandas`.\n",
        "<br>\n",
        "\n",
        "Para mayor detalle del paquete `pandas-profiling` (instalación, uso avanzado, dependencias): [*\"Pandas Profiling Package\"*](https://github.com/pandas-profiling/pandas-profiling)"
      ],
      "metadata": {
        "id": "mtwzU4VcYvrK"
      }
    },
    {
      "cell_type": "markdown",
      "source": [
        "Se requiere instalar la librería para el perfilamiento de datos ```pandas_profiling==2.7.1```"
      ],
      "metadata": {
        "id": "7_57XUCeYOPz"
      }
    },
    {
      "cell_type": "code",
      "source": [
        "!pip install pandas_profiling==2.7.1"
      ],
      "metadata": {
        "id": "nwHGS2zEWJLk"
      },
      "execution_count": null,
      "outputs": []
    },
    {
      "cell_type": "code",
      "source": [
        "from pandas_profiling import ProfileReport\n",
        "reporte_perfilamiento = ProfileReport(datos_training)\n",
        "reporte_perfilamiento"
      ],
      "metadata": {
        "id": "2qv5Tx7lWArk"
      },
      "execution_count": null,
      "outputs": []
    },
    {
      "cell_type": "code",
      "source": [
        "reporte_perfilamiento.to_file(\"./Reporte_datos_entrenamiento.html\")"
      ],
      "metadata": {
        "id": "3fJvosOzXdhS"
      },
      "execution_count": null,
      "outputs": []
    },
    {
      "cell_type": "markdown",
      "source": [
        "### Fin"
      ],
      "metadata": {
        "id": "-UUjpFuWY7ax"
      }
    },
    {
      "cell_type": "markdown",
      "source": [
        "\n",
        "\n",
        "<div style=\"text-align: center; line-height: 0; padding-top: 9px;\">\n",
        "  <img src=\"https://storage.googleapis.com/datasets-academy/public-img/notebooks/headers/databits-footer-notebook.png\" alt=\"Databricks Learning\" style=\"width: 100%;\">\n",
        "</div>"
      ],
      "metadata": {
        "application/vnd.databricks.v1+cell": {
          "title": "",
          "showTitle": false,
          "inputWidgets": {},
          "nuid": "d93aefbb-213d-4265-85b0-8b313a7e7dbf"
        },
        "id": "BHF_bhyxAMI1"
      }
    }
  ],
  "metadata": {
    "kernelspec": {
      "display_name": "Python 3",
      "language": "python",
      "name": "python3"
    },
    "language_info": {
      "mimetype": "text/x-python",
      "name": "python",
      "pygments_lexer": "ipython3",
      "codemirror_mode": {
        "name": "ipython",
        "version": 3
      },
      "version": "3.7.6",
      "nbconvert_exporter": "python",
      "file_extension": ".py"
    },
    "toc": {
      "title_sidebar": "Contents",
      "nav_menu": {},
      "sideBar": true,
      "number_sections": true,
      "skip_h1_title": false,
      "base_numbering": 1,
      "toc_cell": false,
      "toc_position": {},
      "toc_section_display": true,
      "toc_window_display": false,
      "title_cell": "Table of Contents"
    },
    "application/vnd.databricks.v1+notebook": {
      "notebookName": "01 Proyecto final - Fase 1 (Resuelto)",
      "dashboards": [],
      "notebookMetadata": {
        "pythonIndentUnit": 2
      },
      "language": "python",
      "widgets": {},
      "notebookOrigID": 4456755592657749
    },
    "colab": {
      "provenance": [],
      "collapsed_sections": [],
      "include_colab_link": true
    }
  },
  "nbformat": 4,
  "nbformat_minor": 0
}