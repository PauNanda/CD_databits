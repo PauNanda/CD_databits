{
  "nbformat": 4,
  "nbformat_minor": 0,
  "metadata": {
    "colab": {
      "provenance": [],
      "authorship_tag": "ABX9TyPob279zqIq0SfUNtEJd3YT",
      "include_colab_link": true
    },
    "kernelspec": {
      "name": "python3",
      "display_name": "Python 3"
    },
    "language_info": {
      "name": "python"
    }
  },
  "cells": [
    {
      "cell_type": "markdown",
      "metadata": {
        "id": "view-in-github",
        "colab_type": "text"
      },
      "source": [
        "<a href=\"https://colab.research.google.com/github/PauNanda/CD_databits/blob/main/operaciones_numpy.ipynb\" target=\"_parent\"><img src=\"https://colab.research.google.com/assets/colab-badge.svg\" alt=\"Open In Colab\"/></a>"
      ]
    },
    {
      "cell_type": "code",
      "execution_count": 1,
      "metadata": {
        "id": "wKQ_AvD22To1"
      },
      "outputs": [],
      "source": [
        "import numpy as np\n",
        "import pandas as pd"
      ]
    },
    {
      "cell_type": "code",
      "source": [
        "np.array(list(range(100)))"
      ],
      "metadata": {
        "colab": {
          "base_uri": "https://localhost:8080/"
        },
        "id": "XglPlSfn2fYv",
        "outputId": "06a4f025-f850-4ff2-8cd2-d7e619179f5f"
      },
      "execution_count": 2,
      "outputs": [
        {
          "output_type": "execute_result",
          "data": {
            "text/plain": [
              "array([ 0,  1,  2,  3,  4,  5,  6,  7,  8,  9, 10, 11, 12, 13, 14, 15, 16,\n",
              "       17, 18, 19, 20, 21, 22, 23, 24, 25, 26, 27, 28, 29, 30, 31, 32, 33,\n",
              "       34, 35, 36, 37, 38, 39, 40, 41, 42, 43, 44, 45, 46, 47, 48, 49, 50,\n",
              "       51, 52, 53, 54, 55, 56, 57, 58, 59, 60, 61, 62, 63, 64, 65, 66, 67,\n",
              "       68, 69, 70, 71, 72, 73, 74, 75, 76, 77, 78, 79, 80, 81, 82, 83, 84,\n",
              "       85, 86, 87, 88, 89, 90, 91, 92, 93, 94, 95, 96, 97, 98, 99])"
            ]
          },
          "metadata": {},
          "execution_count": 2
        }
      ]
    },
    {
      "cell_type": "code",
      "source": [
        "A = np.array(list(range(100)))\n",
        "\n",
        "np.random.seed(0)\n",
        "B = np.random.randint(1,5,100)\n",
        "\n",
        "print(A)\n",
        "print(B)\n",
        "C=A+B\n",
        "print(C)\n",
        "\n",
        "print(np.mean(C[0:49]))\n",
        "print(np.mean(C[:100]))"
      ],
      "metadata": {
        "colab": {
          "base_uri": "https://localhost:8080/"
        },
        "id": "lGDeZhoz2igM",
        "outputId": "1cf1ad3a-b4cf-47cb-cadd-42819d29007b"
      },
      "execution_count": 19,
      "outputs": [
        {
          "output_type": "stream",
          "name": "stdout",
          "text": [
            "[ 0  1  2  3  4  5  6  7  8  9 10 11 12 13 14 15 16 17 18 19 20 21 22 23\n",
            " 24 25 26 27 28 29 30 31 32 33 34 35 36 37 38 39 40 41 42 43 44 45 46 47\n",
            " 48 49 50 51 52 53 54 55 56 57 58 59 60 61 62 63 64 65 66 67 68 69 70 71\n",
            " 72 73 74 75 76 77 78 79 80 81 82 83 84 85 86 87 88 89 90 91 92 93 94 95\n",
            " 96 97 98 99]\n",
            "[1 4 2 1 4 4 4 4 2 4 2 3 1 4 3 1 1 1 3 2 3 4 4 3 1 2 2 2 2 1 2 1 4 1 4 2 3\n",
            " 4 4 1 3 4 1 2 4 2 4 4 3 4 1 2 2 2 4 1 4 3 1 4 4 3 4 3 4 1 3 1 1 1 2 2 3 1\n",
            " 1 2 4 1 2 3 3 4 1 2 2 4 2 2 4 3 4 4 3 3 4 1 3 4 2 1]\n",
            "[  1   5   4   4   8   9  10  11  10  13  12  14  13  17  17  16  17  18\n",
            "  21  21  23  25  26  26  25  27  28  29  30  30  32  32  36  34  38  37\n",
            "  39  41  42  40  43  45  43  45  48  47  50  51  51  53  51  53  54  55\n",
            "  58  56  60  60  59  63  64  64  66  66  68  66  69  68  69  70  72  73\n",
            "  75  74  75  77  80  78  80  82  83  85  83  85  86  89  88  89  92  92\n",
            "  94  95  95  96  98  96  99 101 100 100]\n",
            "26.612244897959183\n",
            "52.08\n"
          ]
        }
      ]
    },
    {
      "cell_type": "code",
      "source": [
        "from numpy.core.fromnumeric import shape\n",
        "print(C.shape)\n",
        "D = C[0:50]\n",
        "E = C[50:]\n",
        "\n",
        "print(D.shape)\n",
        "print(E.shape)\n",
        "\n",
        "F = np.concatenate((D,E),axis=0)\n",
        "F_reshape = F.reshape(100,1)\n",
        "print(F_reshape)"
      ],
      "metadata": {
        "colab": {
          "base_uri": "https://localhost:8080/"
        },
        "id": "9a-owRQZ3Za3",
        "outputId": "2c4098dd-af8a-4868-daad-23cee7548012"
      },
      "execution_count": 27,
      "outputs": [
        {
          "output_type": "stream",
          "name": "stdout",
          "text": [
            "(100,)\n",
            "(50,)\n",
            "(50,)\n",
            "[[  1]\n",
            " [  5]\n",
            " [  4]\n",
            " [  4]\n",
            " [  8]\n",
            " [  9]\n",
            " [ 10]\n",
            " [ 11]\n",
            " [ 10]\n",
            " [ 13]\n",
            " [ 12]\n",
            " [ 14]\n",
            " [ 13]\n",
            " [ 17]\n",
            " [ 17]\n",
            " [ 16]\n",
            " [ 17]\n",
            " [ 18]\n",
            " [ 21]\n",
            " [ 21]\n",
            " [ 23]\n",
            " [ 25]\n",
            " [ 26]\n",
            " [ 26]\n",
            " [ 25]\n",
            " [ 27]\n",
            " [ 28]\n",
            " [ 29]\n",
            " [ 30]\n",
            " [ 30]\n",
            " [ 32]\n",
            " [ 32]\n",
            " [ 36]\n",
            " [ 34]\n",
            " [ 38]\n",
            " [ 37]\n",
            " [ 39]\n",
            " [ 41]\n",
            " [ 42]\n",
            " [ 40]\n",
            " [ 43]\n",
            " [ 45]\n",
            " [ 43]\n",
            " [ 45]\n",
            " [ 48]\n",
            " [ 47]\n",
            " [ 50]\n",
            " [ 51]\n",
            " [ 51]\n",
            " [ 53]\n",
            " [ 51]\n",
            " [ 53]\n",
            " [ 54]\n",
            " [ 55]\n",
            " [ 58]\n",
            " [ 56]\n",
            " [ 60]\n",
            " [ 60]\n",
            " [ 59]\n",
            " [ 63]\n",
            " [ 64]\n",
            " [ 64]\n",
            " [ 66]\n",
            " [ 66]\n",
            " [ 68]\n",
            " [ 66]\n",
            " [ 69]\n",
            " [ 68]\n",
            " [ 69]\n",
            " [ 70]\n",
            " [ 72]\n",
            " [ 73]\n",
            " [ 75]\n",
            " [ 74]\n",
            " [ 75]\n",
            " [ 77]\n",
            " [ 80]\n",
            " [ 78]\n",
            " [ 80]\n",
            " [ 82]\n",
            " [ 83]\n",
            " [ 85]\n",
            " [ 83]\n",
            " [ 85]\n",
            " [ 86]\n",
            " [ 89]\n",
            " [ 88]\n",
            " [ 89]\n",
            " [ 92]\n",
            " [ 92]\n",
            " [ 94]\n",
            " [ 95]\n",
            " [ 95]\n",
            " [ 96]\n",
            " [ 98]\n",
            " [ 96]\n",
            " [ 99]\n",
            " [101]\n",
            " [100]\n",
            " [100]]\n"
          ]
        }
      ]
    }
  ]
}